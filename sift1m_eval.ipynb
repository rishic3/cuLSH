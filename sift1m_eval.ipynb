{
 "cells": [
  {
   "cell_type": "code",
   "execution_count": 1,
   "id": "aca25363",
   "metadata": {},
   "outputs": [],
   "source": [
    "import numpy as np\n",
    "\n",
    "def read_fvecs(fp):\n",
    "    a = np.fromfile(fp, dtype='int32')\n",
    "    d = a[0]\n",
    "    return a.reshape(-1, d + 1)[:, 1:].copy().view('float32')"
   ]
  },
  {
   "cell_type": "code",
   "execution_count": 2,
   "id": "3cbd79b2",
   "metadata": {},
   "outputs": [],
   "source": [
    "X = read_fvecs('data/sift/sift_base.fvecs')\n",
    "Q = read_fvecs('data/sift/sift_query.fvecs')"
   ]
  },
  {
   "cell_type": "code",
   "execution_count": 3,
   "id": "82fa467c",
   "metadata": {},
   "outputs": [
    {
     "name": "stdout",
     "output_type": "stream",
     "text": [
      "Data shape:  (1000000, 128)\n",
      "Query shape:  (10000, 128)\n"
     ]
    }
   ],
   "source": [
    "print(\"Data shape: \", X.shape)\n",
    "print(\"Query shape: \", Q.shape)"
   ]
  },
  {
   "cell_type": "code",
   "execution_count": 4,
   "id": "48b0ee0d",
   "metadata": {},
   "outputs": [],
   "source": [
    "from src.python.random_projection_lsh import RandomProjectionLSH\n",
    "\n",
    "lsh = RandomProjectionLSH(n_hash_tables=32, n_projections=8)"
   ]
  },
  {
   "cell_type": "code",
   "execution_count": 5,
   "id": "9b359529",
   "metadata": {},
   "outputs": [],
   "source": [
    "Q_test = Q[:1000]"
   ]
  },
  {
   "cell_type": "code",
   "execution_count": 6,
   "id": "7b7470d9",
   "metadata": {},
   "outputs": [
    {
     "name": "stdout",
     "output_type": "stream",
     "text": [
      "CPU times: user 29.7 s, sys: 2.62 s, total: 32.3 s\n",
      "Wall time: 22.2 s\n"
     ]
    }
   ],
   "source": [
    "%%time\n",
    "model = lsh.fit(X)"
   ]
  },
  {
   "cell_type": "code",
   "execution_count": 7,
   "id": "4476fa19",
   "metadata": {},
   "outputs": [
    {
     "name": "stdout",
     "output_type": "stream",
     "text": [
      "CPU times: user 40.8 s, sys: 6.5 s, total: 47.3 s\n",
      "Wall time: 44.9 s\n"
     ]
    }
   ],
   "source": [
    "%%time\n",
    "all_neighbors = model.query(Q_test)"
   ]
  },
  {
   "cell_type": "code",
   "execution_count": null,
   "id": "a946b4bc",
   "metadata": {},
   "outputs": [
    {
     "name": "stdout",
     "output_type": "stream",
     "text": [
      "(763027,)\n"
     ]
    }
   ],
   "source": [
    "def get_gt_top_k_indices(q, X, k=1000):\n",
    "    q_norm = q / np.linalg.norm(q)\n",
    "    X_norm = X / np.linalg.norm(X, axis=1, keepdims=True)\n",
    "    cos_sims = np.dot(X_norm, q_norm)\n",
    "\n",
    "    # reverse - higher is better\n",
    "    return np.argsort(cos_sims)[-k:][::-1]"
   ]
  },
  {
   "cell_type": "code",
   "execution_count": 13,
   "id": "05b7c326",
   "metadata": {},
   "outputs": [],
   "source": [
    "def recall(lsh_indices, gt_top_k_indices):\n",
    "    lsh_set = set(lsh_indices)\n",
    "    gt_set = set(gt_top_k_indices)\n",
    "    \n",
    "    intersection = lsh_set.intersection(gt_set)\n",
    "    recall = len(intersection) / len(gt_set)\n",
    "    \n",
    "    return recall, len(intersection), len(gt_set)"
   ]
  },
  {
   "cell_type": "code",
   "execution_count": 15,
   "id": "570d69d6",
   "metadata": {},
   "outputs": [
    {
     "name": "stdout",
     "output_type": "stream",
     "text": [
      "763027\n"
     ]
    }
   ],
   "source": [
    "first_query = Q_test[0]\n",
    "lsh_indices = all_neighbors[0]\n",
    "print(len(lsh_indices))"
   ]
  },
  {
   "cell_type": "code",
   "execution_count": 16,
   "id": "218c9dbb",
   "metadata": {},
   "outputs": [
    {
     "data": {
      "text/plain": [
       "(0.8073633043129536, 616040, 763027)"
      ]
     },
     "execution_count": 16,
     "metadata": {},
     "output_type": "execute_result"
    }
   ],
   "source": [
    "k = len(lsh_indices)\n",
    "top_k_indices = get_gt_top_k_indices(first_query, X, k)\n",
    "\n",
    "recall(lsh_indices, top_k_indices)"
   ]
  },
  {
   "cell_type": "code",
   "execution_count": null,
   "id": "13616040",
   "metadata": {},
   "outputs": [],
   "source": []
  }
 ],
 "metadata": {
  "kernelspec": {
   "display_name": "culsh",
   "language": "python",
   "name": "python3"
  },
  "language_info": {
   "codemirror_mode": {
    "name": "ipython",
    "version": 3
   },
   "file_extension": ".py",
   "mimetype": "text/x-python",
   "name": "python",
   "nbconvert_exporter": "python",
   "pygments_lexer": "ipython3",
   "version": "3.12.11"
  }
 },
 "nbformat": 4,
 "nbformat_minor": 5
}
